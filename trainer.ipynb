{
 "cells": [
  {
   "cell_type": "code",
   "execution_count": 1,
   "metadata": {},
   "outputs": [
    {
     "name": "stderr",
     "output_type": "stream",
     "text": [
      "'nvidia-smi' is not recognized as an internal or external command,\n",
      "operable program or batch file.\n"
     ]
    }
   ],
   "source": [
    "!nvidia-smi"
   ]
  },
  {
   "cell_type": "code",
   "execution_count": 1,
   "metadata": {},
   "outputs": [
    {
     "name": "stdout",
     "output_type": "stream",
     "text": [
      "False\n",
      "cpu\n"
     ]
    },
    {
     "name": "stderr",
     "output_type": "stream",
     "text": [
      "c:\\Users\\MS\\AppData\\Local\\Programs\\Python\\Python39\\lib\\site-packages\\torch\\cuda\\__init__.py:52: UserWarning: CUDA initialization: CUDA driver initialization failed, you might not have a CUDA gpu. (Triggered internally at  ..\\c10\\cuda\\CUDAFunctions.cpp:109.)\n",
      "  return torch._C._cuda_getDeviceCount() > 0\n"
     ]
    }
   ],
   "source": [
    "import torch\n",
    "\n",
    "print(torch.cuda.is_available())\n",
    "if torch.cuda.is_available():\n",
    "    device = torch.device(\"cuda\")\n",
    "elif torch.device(\"cpu\"):\n",
    "    device=torch.device(\"cpu\")\n",
    "\n",
    "print(device)"
   ]
  },
  {
   "cell_type": "code",
   "execution_count": 2,
   "metadata": {},
   "outputs": [
    {
     "name": "stderr",
     "output_type": "stream",
     "text": [
      "c:\\Users\\MS\\AppData\\Local\\Programs\\Python\\Python39\\lib\\site-packages\\torch\\cuda\\__init__.py:52: UserWarning: CUDA initialization: CUDA driver initialization failed, you might not have a CUDA gpu. (Triggered internally at  ..\\c10\\cuda\\CUDAFunctions.cpp:109.)\n",
      "  return torch._C._cuda_getDeviceCount() > 0\n",
      "Ultralytics YOLOv8.0.99  Python-3.9.8 torch-1.8.1+cu111 CPU\n",
      "Setup complete  (8 CPUs, 7.9 GB RAM, 104.5/118.1 GB disk)\n"
     ]
    }
   ],
   "source": [
    "%pip install ultralytics\n",
    "import ultralytics\n",
    "ultralytics.checks()"
   ]
  },
  {
   "cell_type": "code",
   "execution_count": 3,
   "metadata": {},
   "outputs": [],
   "source": [
    "from ultralytics import YOLO\n",
    "from IPython.display import display, Image"
   ]
  },
  {
   "cell_type": "code",
   "execution_count": 5,
   "metadata": {},
   "outputs": [
    {
     "name": "stdout",
     "output_type": "stream",
     "text": [
      "c:\\Users\\MS\\Desktop\\DLAV\\datasets\n"
     ]
    },
    {
     "name": "stderr",
     "output_type": "stream",
     "text": [
      "A subdirectory or file datasets already exists.\n"
     ]
    },
    {
     "name": "stdout",
     "output_type": "stream",
     "text": [
      "Collecting roboflow\n",
      "  Downloading roboflow-1.0.8-py3-none-any.whl (56 kB)\n",
      "     ---------------------------------------- 56.3/56.3 kB 1.4 MB/s eta 0:00:00\n",
      "Collecting certifi==2022.12.7\n",
      "  Downloading certifi-2022.12.7-py3-none-any.whl (155 kB)\n",
      "     -------------------------------------- 155.3/155.3 kB 4.7 MB/s eta 0:00:00\n",
      "Requirement already satisfied: tqdm>=4.41.0 in c:\\users\\ms\\appdata\\local\\programs\\python\\python39\\lib\\site-packages (from roboflow) (4.64.0)\n",
      "Requirement already satisfied: opencv-python>=4.1.2 in c:\\users\\ms\\appdata\\local\\programs\\python\\python39\\lib\\site-packages (from roboflow) (4.7.0.72)\n",
      "Requirement already satisfied: Pillow>=7.1.2 in c:\\users\\ms\\appdata\\local\\programs\\python\\python39\\lib\\site-packages (from roboflow) (8.4.0)\n",
      "Collecting cycler==0.10.0\n",
      "  Using cached cycler-0.10.0-py2.py3-none-any.whl (6.5 kB)\n",
      "Collecting pyparsing==2.4.7\n",
      "  Downloading pyparsing-2.4.7-py2.py3-none-any.whl (67 kB)\n",
      "     ---------------------------------------- 67.8/67.8 kB 3.8 MB/s eta 0:00:00\n",
      "Collecting python-dotenv\n",
      "  Downloading python_dotenv-1.0.0-py3-none-any.whl (19 kB)\n",
      "Requirement already satisfied: urllib3>=1.26.6 in c:\\users\\ms\\appdata\\local\\programs\\python\\python39\\lib\\site-packages (from roboflow) (1.26.15)\n",
      "Requirement already satisfied: python-dateutil in c:\\users\\ms\\appdata\\local\\programs\\python\\python39\\lib\\site-packages (from roboflow) (2.8.2)\n",
      "Requirement already satisfied: matplotlib in c:\\users\\ms\\appdata\\local\\programs\\python\\python39\\lib\\site-packages (from roboflow) (3.5.1)\n",
      "Requirement already satisfied: PyYAML>=5.3.1 in c:\\users\\ms\\appdata\\local\\programs\\python\\python39\\lib\\site-packages (from roboflow) (5.4.1)\n",
      "Collecting chardet==4.0.0\n",
      "  Using cached chardet-4.0.0-py2.py3-none-any.whl (178 kB)\n",
      "Collecting idna==2.10\n",
      "  Using cached idna-2.10-py2.py3-none-any.whl (58 kB)\n",
      "Requirement already satisfied: kiwisolver>=1.3.1 in c:\\users\\ms\\appdata\\local\\programs\\python\\python39\\lib\\site-packages (from roboflow) (1.4.2)\n",
      "Requirement already satisfied: six in c:\\users\\ms\\appdata\\local\\programs\\python\\python39\\lib\\site-packages (from roboflow) (1.16.0)\n",
      "Requirement already satisfied: requests in c:\\users\\ms\\appdata\\local\\programs\\python\\python39\\lib\\site-packages (from roboflow) (2.27.1)\n",
      "Requirement already satisfied: numpy>=1.18.5 in c:\\users\\ms\\appdata\\local\\programs\\python\\python39\\lib\\site-packages (from roboflow) (1.22.2)\n",
      "Collecting requests-toolbelt\n",
      "  Downloading requests_toolbelt-1.0.0-py2.py3-none-any.whl (54 kB)\n",
      "     ---------------------------------------- 54.5/54.5 kB 2.9 MB/s eta 0:00:00\n",
      "Collecting wget\n",
      "  Downloading wget-3.2.zip (10 kB)\n",
      "  Preparing metadata (setup.py): started\n",
      "  Preparing metadata (setup.py): finished with status 'done'\n",
      "Requirement already satisfied: colorama in c:\\users\\ms\\appdata\\local\\programs\\python\\python39\\lib\\site-packages (from tqdm>=4.41.0->roboflow) (0.4.3)\n",
      "Requirement already satisfied: packaging>=20.0 in c:\\users\\ms\\appdata\\local\\programs\\python\\python39\\lib\\site-packages (from matplotlib->roboflow) (21.3)\n",
      "Requirement already satisfied: fonttools>=4.22.0 in c:\\users\\ms\\appdata\\local\\programs\\python\\python39\\lib\\site-packages (from matplotlib->roboflow) (4.33.2)\n",
      "Requirement already satisfied: charset-normalizer~=2.0.0 in c:\\users\\ms\\appdata\\local\\programs\\python\\python39\\lib\\site-packages (from requests->roboflow) (2.0.12)\n",
      "Building wheels for collected packages: wget\n",
      "  Building wheel for wget (setup.py): started\n",
      "  Building wheel for wget (setup.py): finished with status 'done'\n",
      "  Created wheel for wget: filename=wget-3.2-py3-none-any.whl size=9675 sha256=2793742c1f07aaef1b6046de043d6c2c94e8439b5d05fce2e8904dee622ba6f8\n",
      "  Stored in directory: c:\\users\\ms\\appdata\\local\\pip\\cache\\wheels\\04\\5f\\3e\\46cc37c5d698415694d83f607f833f83f0149e49b3af9d0f38\n",
      "Successfully built wget\n",
      "Installing collected packages: wget, python-dotenv, pyparsing, idna, cycler, chardet, certifi, requests-toolbelt, roboflow\n",
      "  Attempting uninstall: pyparsing\n",
      "    Found existing installation: pyparsing 3.0.7\n",
      "    Uninstalling pyparsing-3.0.7:\n",
      "      Successfully uninstalled pyparsing-3.0.7\n",
      "  Attempting uninstall: idna\n",
      "    Found existing installation: idna 3.3\n",
      "    Uninstalling idna-3.3:\n",
      "      Successfully uninstalled idna-3.3\n",
      "  Attempting uninstall: cycler\n",
      "    Found existing installation: cycler 0.11.0\n",
      "    Uninstalling cycler-0.11.0:\n",
      "      Successfully uninstalled cycler-0.11.0\n",
      "  Attempting uninstall: certifi\n",
      "    Found existing installation: certifi 2021.10.8\n",
      "    Uninstalling certifi-2021.10.8:\n",
      "      Successfully uninstalled certifi-2021.10.8\n",
      "Successfully installed certifi-2022.12.7 chardet-4.0.0 cycler-0.10.0 idna-2.10 pyparsing-2.4.7 python-dotenv-1.0.0 requests-toolbelt-1.0.0 roboflow-1.0.8 wget-3.2\n"
     ]
    },
    {
     "name": "stderr",
     "output_type": "stream",
     "text": [
      "\n",
      "[notice] A new release of pip is available: 23.0.1 -> 23.1.2\n",
      "[notice] To update, run: python.exe -m pip install --upgrade pip\n"
     ]
    },
    {
     "name": "stdout",
     "output_type": "stream",
     "text": [
      "Collecting roboflow\n",
      "  Using cached roboflow-1.0.8-py3-none-any.whl (56 kB)\n",
      "Collecting requests-toolbelt\n",
      "  Using cached requests_toolbelt-1.0.0-py2.py3-none-any.whl (54 kB)\n",
      "Requirement already satisfied: python-dotenv in c:\\users\\ms\\appdata\\local\\programs\\python\\python39\\lib\\site-packages (from roboflow) (1.0.0)\n",
      "Collecting chardet==4.0.0\n",
      "  Using cached chardet-4.0.0-py2.py3-none-any.whl (178 kB)\n",
      "Requirement already satisfied: tqdm>=4.41.0 in c:\\users\\ms\\appdata\\local\\programs\\python\\python39\\lib\\site-packages (from roboflow) (4.64.0)\n",
      "Requirement already satisfied: PyYAML>=5.3.1 in c:\\users\\ms\\appdata\\local\\programs\\python\\python39\\lib\\site-packages (from roboflow) (5.4.1)\n",
      "Requirement already satisfied: pyparsing==2.4.7 in c:\\users\\ms\\appdata\\local\\programs\\python\\python39\\lib\\site-packages (from roboflow) (2.4.7)\n",
      "Collecting cycler==0.10.0\n",
      "  Using cached cycler-0.10.0-py2.py3-none-any.whl (6.5 kB)\n",
      "Requirement already satisfied: python-dateutil in c:\\users\\ms\\appdata\\local\\programs\\python\\python39\\lib\\site-packages (from roboflow) (2.8.2)\n",
      "Requirement already satisfied: Pillow>=7.1.2 in c:\\users\\ms\\appdata\\local\\programs\\python\\python39\\lib\\site-packages (from roboflow) (8.4.0)\n",
      "Requirement already satisfied: six in c:\\users\\ms\\appdata\\local\\programs\\python\\python39\\lib\\site-packages (from roboflow) (1.16.0)\n",
      "Requirement already satisfied: matplotlib in c:\\users\\ms\\appdata\\local\\programs\\python\\python39\\lib\\site-packages (from roboflow) (3.5.1)\n",
      "Requirement already satisfied: urllib3>=1.26.6 in c:\\users\\ms\\appdata\\local\\programs\\python\\python39\\lib\\site-packages (from roboflow) (1.26.15)\n",
      "Collecting certifi==2022.12.7\n",
      "  Using cached certifi-2022.12.7-py3-none-any.whl (155 kB)\n",
      "Requirement already satisfied: opencv-python>=4.1.2 in c:\\users\\ms\\appdata\\local\\programs\\python\\python39\\lib\\site-packages (from roboflow) (4.7.0.72)\n",
      "Requirement already satisfied: kiwisolver>=1.3.1 in c:\\users\\ms\\appdata\\local\\programs\\python\\python39\\lib\\site-packages (from roboflow) (1.4.2)\n",
      "Requirement already satisfied: wget in c:\\users\\ms\\appdata\\local\\programs\\python\\python39\\lib\\site-packages (from roboflow) (3.2)\n",
      "Requirement already satisfied: numpy>=1.18.5 in c:\\users\\ms\\appdata\\local\\programs\\python\\python39\\lib\\site-packages (from roboflow) (1.22.2)\n",
      "Requirement already satisfied: idna==2.10 in c:\\users\\ms\\appdata\\local\\programs\\python\\python39\\lib\\site-packages (from roboflow) (2.10)\n",
      "Requirement already satisfied: requests in c:\\users\\ms\\appdata\\local\\programs\\python\\python39\\lib\\site-packages (from roboflow) (2.27.1)\n",
      "Requirement already satisfied: colorama in c:\\users\\ms\\appdata\\local\\programs\\python\\python39\\lib\\site-packages (from tqdm>=4.41.0->roboflow) (0.4.3)\n",
      "Requirement already satisfied: fonttools>=4.22.0 in c:\\users\\ms\\appdata\\local\\programs\\python\\python39\\lib\\site-packages (from matplotlib->roboflow) (4.33.2)\n",
      "Requirement already satisfied: packaging>=20.0 in c:\\users\\ms\\appdata\\local\\programs\\python\\python39\\lib\\site-packages (from matplotlib->roboflow) (21.3)\n",
      "Requirement already satisfied: charset-normalizer~=2.0.0 in c:\\users\\ms\\appdata\\local\\programs\\python\\python39\\lib\\site-packages (from requests->roboflow) (2.0.12)\n",
      "Installing collected packages: cycler, chardet, certifi, requests-toolbelt, roboflow\n",
      "  Attempting uninstall: cycler\n",
      "    Found existing installation: cycler 0.11.0\n",
      "    Uninstalling cycler-0.11.0:\n"
     ]
    },
    {
     "name": "stderr",
     "output_type": "stream",
     "text": [
      "ERROR: Could not install packages due to an OSError: [Errno 2] No such file or directory: 'c:\\\\users\\\\ms\\\\appdata\\\\local\\\\programs\\\\python\\\\python39\\\\lib\\\\site-packages\\\\cycler-0.11.0.dist-info\\\\'\n",
      "\n",
      "\n",
      "[notice] A new release of pip is available: 23.0.1 -> 23.1.2\n",
      "[notice] To update, run: python.exe -m pip install --upgrade pip\n"
     ]
    },
    {
     "name": "stdout",
     "output_type": "stream",
     "text": [
      "loading Roboflow workspace...\n",
      "loading Roboflow project...\n",
      "Dependency ultralytics<=8.0.20 is required but found version=8.0.99, to fix: `pip install ultralytics<=8.0.20`\n",
      "Downloading Dataset Version Zip in 2D-Object-Detection-tsl-1 to yolov8: 100% [604018294 / 604018294] bytes\n"
     ]
    },
    {
     "name": "stderr",
     "output_type": "stream",
     "text": [
      "Extracting Dataset Version Zip to 2D-Object-Detection-tsl-1 in yolov8:: 100%|██████████| 14974/14974 [00:49<00:00, 301.27it/s]\n"
     ]
    }
   ],
   "source": [
    "!mkdir datasets\n",
    "%cd datasets\n",
    "\n",
    "!pip install roboflow\n",
    "\n",
    "from roboflow import Roboflow\n",
    "rf = Roboflow(api_key=\"AbwRh2Gd1vOFEclXWlf7\")\n",
    "project = rf.workspace(\"epfl-nrex5\").project(\"2d-object-detection-tsl\")\n",
    "dataset = project.version(1).download(\"yolov8\")\n"
   ]
  },
  {
   "cell_type": "code",
   "execution_count": 2,
   "metadata": {},
   "outputs": [
    {
     "name": "stdout",
     "output_type": "stream",
     "text": [
      "[WinError 2] The system cannot find the file specified: '{DLAV}'\n",
      "c:\\Users\\MS\\Desktop\\DLAV\n"
     ]
    },
    {
     "name": "stderr",
     "output_type": "stream",
     "text": [
      "c:\\Users\\MS\\AppData\\Local\\Programs\\Python\\Python39\\lib\\site-packages\\torch\\cuda\\__init__.py:52: UserWarning: CUDA initialization: CUDA driver initialization failed, you might not have a CUDA gpu. (Triggered internally at  ..\\c10\\cuda\\CUDAFunctions.cpp:109.)\n",
      "  return torch._C._cuda_getDeviceCount() > 0\n",
      "Ultralytics YOLOv8.0.99  Python-3.9.8 torch-1.8.1+cu111 CPU\n",
      "WARNING  Upgrade to torch>=2.0.0 for deterministic training.\n",
      "\u001b[34m\u001b[1myolo\\engine\\trainer: \u001b[0mtask=detect, mode=train, model=yolov8s.pt, data={dataset.location}/2D-Object-Detection-tsl-1/data.yaml, epochs=300, patience=50, batch=16, imgsz=800, save=True, save_period=-1, cache=False, device=None, workers=8, project=None, name=None, exist_ok=False, pretrained=False, optimizer=SGD, verbose=True, seed=0, deterministic=True, single_cls=False, rect=False, cos_lr=False, close_mosaic=0, resume=False, amp=True, overlap_mask=True, mask_ratio=4, dropout=0.0, val=True, split=val, save_json=False, save_hybrid=False, conf=None, iou=0.7, max_det=300, half=False, dnn=False, plots=True, source=None, show=False, save_txt=False, save_conf=False, save_crop=False, show_labels=True, show_conf=True, vid_stride=1, line_width=None, visualize=False, augment=False, agnostic_nms=False, classes=None, retina_masks=False, boxes=True, format=torchscript, keras=False, optimize=False, int8=False, dynamic=False, simplify=False, opset=None, workspace=4, nms=False, lr0=0.01, lrf=0.01, momentum=0.937, weight_decay=0.0005, warmup_epochs=3.0, warmup_momentum=0.8, warmup_bias_lr=0.1, box=7.5, cls=0.5, dfl=1.5, pose=12.0, kobj=1.0, label_smoothing=0.0, nbs=64, hsv_h=0.015, hsv_s=0.7, hsv_v=0.4, degrees=0.0, translate=0.1, scale=0.5, shear=0.0, perspective=0.0, flipud=0.0, fliplr=0.5, mosaic=1.0, mixup=0.0, copy_paste=0.0, cfg=None, v5loader=False, tracker=botsort.yaml, save_dir=runs\\detect\\train2\n",
      "Traceback (most recent call last):\n",
      "  File \"c:\\Users\\MS\\AppData\\Local\\Programs\\Python\\Python39\\lib\\site-packages\\ultralytics\\yolo\\engine\\trainer.py\", line 122, in __init__\n",
      "    self.data = check_det_dataset(self.args.data)\n",
      "  File \"c:\\Users\\MS\\AppData\\Local\\Programs\\Python\\Python39\\lib\\site-packages\\ultralytics\\yolo\\data\\utils.py\", line 195, in check_det_dataset\n",
      "    data = check_file(dataset)\n",
      "  File \"c:\\Users\\MS\\AppData\\Local\\Programs\\Python\\Python39\\lib\\site-packages\\ultralytics\\yolo\\utils\\checks.py\", line 292, in check_file\n",
      "    raise FileNotFoundError(f\"'{file}' does not exist\")\n",
      "FileNotFoundError: '{dataset.location}/2D-Object-Detection-tsl-1/data.yaml' does not exist\n",
      "\n",
      "The above exception was the direct cause of the following exception:\n",
      "\n",
      "Traceback (most recent call last):\n",
      "  File \"c:\\Users\\MS\\AppData\\Local\\Programs\\Python\\Python39\\lib\\runpy.py\", line 197, in _run_module_as_main\n",
      "    return _run_code(code, main_globals, None,\n",
      "  File \"c:\\Users\\MS\\AppData\\Local\\Programs\\Python\\Python39\\lib\\runpy.py\", line 87, in _run_code\n",
      "    exec(code, run_globals)\n",
      "  File \"C:\\Users\\MS\\AppData\\Local\\Programs\\Python\\Python39\\Scripts\\yolo.exe\\__main__.py\", line 7, in <module>\n",
      "  File \"c:\\Users\\MS\\AppData\\Local\\Programs\\Python\\Python39\\lib\\site-packages\\ultralytics\\yolo\\cfg\\__init__.py\", line 394, in entrypoint\n",
      "    getattr(model, mode)(**overrides)  # default args from model\n",
      "  File \"c:\\Users\\MS\\AppData\\Local\\Programs\\Python\\Python39\\lib\\site-packages\\ultralytics\\yolo\\engine\\model.py\", line 365, in train\n",
      "    self.trainer = TASK_MAP[self.task][1](overrides=overrides, _callbacks=self.callbacks)\n",
      "  File \"c:\\Users\\MS\\AppData\\Local\\Programs\\Python\\Python39\\lib\\site-packages\\ultralytics\\yolo\\engine\\trainer.py\", line 126, in __init__\n",
      "    raise RuntimeError(emojis(f\"Dataset '{clean_url(self.args.data)}' error ❌ {e}\")) from e\n",
      "RuntimeError: Dataset '{dataset.location}\\2D-Object-Detection-tsl-1\\data.yaml' error  '{dataset.location}/2D-Object-Detection-tsl-1/data.yaml' does not exist\n"
     ]
    }
   ],
   "source": [
    "!yolo task=detect mode=train model=yolov8s.pt data={dataset.location}/2D-Object-Detection-tsl-1/data.yaml epochs=300 imgsz=800 plots=True"
   ]
  }
 ],
 "metadata": {
  "kernelspec": {
   "display_name": "Python 3",
   "language": "python",
   "name": "python3"
  },
  "language_info": {
   "codemirror_mode": {
    "name": "ipython",
    "version": 3
   },
   "file_extension": ".py",
   "mimetype": "text/x-python",
   "name": "python",
   "nbconvert_exporter": "python",
   "pygments_lexer": "ipython3",
   "version": "3.9.8"
  },
  "orig_nbformat": 4
 },
 "nbformat": 4,
 "nbformat_minor": 2
}
